{
 "cells": [
  {
   "cell_type": "code",
   "execution_count": 1,
   "metadata": {},
   "outputs": [],
   "source": [
    "import uniprot\n",
    "import word2num"
   ]
  },
  {
   "cell_type": "code",
   "execution_count": 2,
   "metadata": {},
   "outputs": [
    {
     "name": "stdout",
     "output_type": "stream",
     "text": [
      "Workdir=/tmp/tmpz8_46g24\n"
     ]
    }
   ],
   "source": [
    "ds = uniprot.Dataset()\n",
    "release, df = ds.load('sprot')"
   ]
  },
  {
   "cell_type": "code",
   "execution_count": 3,
   "metadata": {},
   "outputs": [
    {
     "data": {
      "text/html": [
       "<div>\n",
       "<style scoped>\n",
       "    .dataframe tbody tr th:only-of-type {\n",
       "        vertical-align: middle;\n",
       "    }\n",
       "\n",
       "    .dataframe tbody tr th {\n",
       "        vertical-align: top;\n",
       "    }\n",
       "\n",
       "    .dataframe thead th {\n",
       "        text-align: right;\n",
       "    }\n",
       "</style>\n",
       "<table border=\"1\" class=\"dataframe\">\n",
       "  <thead>\n",
       "    <tr style=\"text-align: right;\">\n",
       "      <th></th>\n",
       "      <th>dataset</th>\n",
       "      <th>name</th>\n",
       "      <th>organism</th>\n",
       "      <th>proteinexistence</th>\n",
       "      <th>sequence</th>\n",
       "    </tr>\n",
       "    <tr>\n",
       "      <th>ID</th>\n",
       "      <th></th>\n",
       "      <th></th>\n",
       "      <th></th>\n",
       "      <th></th>\n",
       "      <th></th>\n",
       "    </tr>\n",
       "  </thead>\n",
       "  <tbody>\n",
       "    <tr>\n",
       "      <th>Q6GZX4</th>\n",
       "      <td>Swiss-Prot</td>\n",
       "      <td>001R_FRG3G</td>\n",
       "      <td>Frog virus 3 (isolate Goorha)</td>\n",
       "      <td>4</td>\n",
       "      <td>MAFSAEDVLKEYDRRRRMEALLLSLYYPNDRKLLDYKEWSPPRVQV...</td>\n",
       "    </tr>\n",
       "    <tr>\n",
       "      <th>Q6GZX3</th>\n",
       "      <td>Swiss-Prot</td>\n",
       "      <td>002L_FRG3G</td>\n",
       "      <td>Frog virus 3 (isolate Goorha)</td>\n",
       "      <td>4</td>\n",
       "      <td>MSIIGATRLQNDKSDTYSAGPCYAGGCSAFTPRGTCGKDWDLGEQT...</td>\n",
       "    </tr>\n",
       "    <tr>\n",
       "      <th>Q197F8</th>\n",
       "      <td>Swiss-Prot</td>\n",
       "      <td>002R_IIV3</td>\n",
       "      <td>Invertebrate iridescent virus 3</td>\n",
       "      <td>4</td>\n",
       "      <td>MASNTVSAQGGSNRPVRDFSNIQDVAQFLLFDPIWNEQPGSIVPWK...</td>\n",
       "    </tr>\n",
       "    <tr>\n",
       "      <th>Q197F7</th>\n",
       "      <td>Swiss-Prot</td>\n",
       "      <td>003L_IIV3</td>\n",
       "      <td>Invertebrate iridescent virus 3</td>\n",
       "      <td>4</td>\n",
       "      <td>MYQAINPCPQSWYGSPQLEREIVCKMSGAPHYPNYYPVHPNALGGA...</td>\n",
       "    </tr>\n",
       "    <tr>\n",
       "      <th>Q6GZX2</th>\n",
       "      <td>Swiss-Prot</td>\n",
       "      <td>003R_FRG3G</td>\n",
       "      <td>Frog virus 3 (isolate Goorha)</td>\n",
       "      <td>3</td>\n",
       "      <td>MARPLLGKTSSVRRRLESLSACSIFFFLRKFCQKMASLVFLNSPVY...</td>\n",
       "    </tr>\n",
       "  </tbody>\n",
       "</table>\n",
       "</div>"
      ],
      "text/plain": [
       "           dataset        name                         organism  \\\n",
       "ID                                                                \n",
       "Q6GZX4  Swiss-Prot  001R_FRG3G    Frog virus 3 (isolate Goorha)   \n",
       "Q6GZX3  Swiss-Prot  002L_FRG3G    Frog virus 3 (isolate Goorha)   \n",
       "Q197F8  Swiss-Prot   002R_IIV3  Invertebrate iridescent virus 3   \n",
       "Q197F7  Swiss-Prot   003L_IIV3  Invertebrate iridescent virus 3   \n",
       "Q6GZX2  Swiss-Prot  003R_FRG3G    Frog virus 3 (isolate Goorha)   \n",
       "\n",
       "        proteinexistence                                           sequence  \n",
       "ID                                                                           \n",
       "Q6GZX4                 4  MAFSAEDVLKEYDRRRRMEALLLSLYYPNDRKLLDYKEWSPPRVQV...  \n",
       "Q6GZX3                 4  MSIIGATRLQNDKSDTYSAGPCYAGGCSAFTPRGTCGKDWDLGEQT...  \n",
       "Q197F8                 4  MASNTVSAQGGSNRPVRDFSNIQDVAQFLLFDPIWNEQPGSIVPWK...  \n",
       "Q197F7                 4  MYQAINPCPQSWYGSPQLEREIVCKMSGAPHYPNYYPVHPNALGGA...  \n",
       "Q6GZX2                 3  MARPLLGKTSSVRRRLESLSACSIFFFLRKFCQKMASLVFLNSPVY...  "
      ]
     },
     "execution_count": 3,
     "metadata": {},
     "output_type": "execute_result"
    }
   ],
   "source": [
    "df.head()"
   ]
  },
  {
   "cell_type": "code",
   "execution_count": 4,
   "metadata": {},
   "outputs": [
    {
     "data": {
      "text/plain": [
       "561356"
      ]
     },
     "execution_count": 4,
     "metadata": {},
     "output_type": "execute_result"
    }
   ],
   "source": [
    "len(df)"
   ]
  },
  {
   "cell_type": "code",
   "execution_count": 5,
   "metadata": {},
   "outputs": [
    {
     "name": "stderr",
     "output_type": "stream",
     "text": [
      "561356it [01:34, 5938.49it/s] \n"
     ]
    }
   ],
   "source": [
    "vocab, tok, ids = word2num.transform(df, lambda seq: [t for t in seq])"
   ]
  },
  {
   "cell_type": "code",
   "execution_count": 10,
   "metadata": {},
   "outputs": [
    {
     "data": {
      "text/plain": [
       "array([list([21, 17, 2, 15, 6, 2, 5, 10, 4, 1, 8, 5, 16, 10, 9, 9, 9, 9, 17, 5, 2, 1, 1, 1, 6, 1, 16, 16, 12, 13, 10, 9, 8, 1, 1, 10, 16, 8, 5, 20, 6, 12, 12, 9, 4, 14, 4, 5, 19, 12, 8, 2, 12, 4, 5, 20, 13, 13, 12, 12, 6, 5, 8, 3, 1, 7, 4, 3, 18, 15, 6, 3, 7, 8, 16, 8, 3, 5, 8, 2, 14, 2, 6, 5, 4, 10, 4, 13, 8, 17, 19, 19, 20, 4, 6, 8, 15, 8, 10, 2, 17, 9, 9, 16, 14, 3, 7, 14, 11, 19, 8, 7, 12, 3, 8, 4, 1, 6, 10, 1, 10, 2, 8, 7, 8, 2, 16, 13, 1, 11, 4, 5, 3, 4, 5, 3, 15, 4, 9, 16, 6, 9, 4, 11, 8, 14, 18, 4, 2, 2, 15, 1, 8, 5, 1, 9, 18, 6, 8, 14, 16, 5, 13, 4, 13, 1, 7, 18, 16, 7, 1, 11, 10, 8, 9, 4, 10, 7, 14, 18, 1, 5, 8, 10, 1, 4, 8, 10, 15, 8, 2, 1, 4, 5, 6, 2, 18, 9, 17, 9, 14, 3, 18, 17, 7, 13, 4, 8, 16, 7, 1, 16, 14, 1, 1, 8, 8, 18, 3, 18, 3, 12, 10, 3, 12, 10, 7, 1, 11, 4, 8, 11, 3, 6, 8, 3, 4, 1, 16, 10, 10, 6, 15, 9, 8, 7, 16, 11, 10, 1, 3, 20, 8, 15, 11, 12, 1])],\n",
       "      dtype=object)"
      ]
     },
     "execution_count": 10,
     "metadata": {},
     "output_type": "execute_result"
    }
   ],
   "source": [
    "tok[:1]"
   ]
  },
  {
   "cell_type": "code",
   "execution_count": null,
   "metadata": {},
   "outputs": [],
   "source": []
  }
 ],
 "metadata": {
  "kernelspec": {
   "display_name": "Python 3",
   "language": "python",
   "name": "python3"
  },
  "language_info": {
   "codemirror_mode": {
    "name": "ipython",
    "version": 3
   },
   "file_extension": ".py",
   "mimetype": "text/x-python",
   "name": "python",
   "nbconvert_exporter": "python",
   "pygments_lexer": "ipython3",
   "version": "3.6.5"
  }
 },
 "nbformat": 4,
 "nbformat_minor": 2
}
