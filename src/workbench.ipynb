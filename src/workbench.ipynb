{
 "cells": [
  {
   "cell_type": "code",
   "execution_count": 1,
   "metadata": {},
   "outputs": [],
   "source": [
    "import uniprot\n",
    "import word2num\n",
    "import splits"
   ]
  },
  {
   "cell_type": "code",
   "execution_count": 2,
   "metadata": {},
   "outputs": [
    {
     "name": "stdout",
     "output_type": "stream",
     "text": [
      "Workdir=/tmp/tmpmreqremr\n"
     ]
    }
   ],
   "source": [
    "ds = uniprot.Dataset()\n",
    "release, df = ds.load('sprot')"
   ]
  },
  {
   "cell_type": "code",
   "execution_count": 3,
   "metadata": {},
   "outputs": [
    {
     "data": {
      "text/html": [
       "<div>\n",
       "<style scoped>\n",
       "    .dataframe tbody tr th:only-of-type {\n",
       "        vertical-align: middle;\n",
       "    }\n",
       "\n",
       "    .dataframe tbody tr th {\n",
       "        vertical-align: top;\n",
       "    }\n",
       "\n",
       "    .dataframe thead th {\n",
       "        text-align: right;\n",
       "    }\n",
       "</style>\n",
       "<table border=\"1\" class=\"dataframe\">\n",
       "  <thead>\n",
       "    <tr style=\"text-align: right;\">\n",
       "      <th></th>\n",
       "      <th>dataset</th>\n",
       "      <th>name</th>\n",
       "      <th>organism</th>\n",
       "      <th>proteinexistence</th>\n",
       "      <th>sequence</th>\n",
       "    </tr>\n",
       "    <tr>\n",
       "      <th>ID</th>\n",
       "      <th></th>\n",
       "      <th></th>\n",
       "      <th></th>\n",
       "      <th></th>\n",
       "      <th></th>\n",
       "    </tr>\n",
       "  </thead>\n",
       "  <tbody>\n",
       "    <tr>\n",
       "      <th>Q6GZX4</th>\n",
       "      <td>Swiss-Prot</td>\n",
       "      <td>001R_FRG3G</td>\n",
       "      <td>Frog virus 3 (isolate Goorha)</td>\n",
       "      <td>4</td>\n",
       "      <td>MAFSAEDVLKEYDRRRRMEALLLSLYYPNDRKLLDYKEWSPPRVQV...</td>\n",
       "    </tr>\n",
       "    <tr>\n",
       "      <th>Q6GZX3</th>\n",
       "      <td>Swiss-Prot</td>\n",
       "      <td>002L_FRG3G</td>\n",
       "      <td>Frog virus 3 (isolate Goorha)</td>\n",
       "      <td>4</td>\n",
       "      <td>MSIIGATRLQNDKSDTYSAGPCYAGGCSAFTPRGTCGKDWDLGEQT...</td>\n",
       "    </tr>\n",
       "    <tr>\n",
       "      <th>Q197F8</th>\n",
       "      <td>Swiss-Prot</td>\n",
       "      <td>002R_IIV3</td>\n",
       "      <td>Invertebrate iridescent virus 3</td>\n",
       "      <td>4</td>\n",
       "      <td>MASNTVSAQGGSNRPVRDFSNIQDVAQFLLFDPIWNEQPGSIVPWK...</td>\n",
       "    </tr>\n",
       "    <tr>\n",
       "      <th>Q197F7</th>\n",
       "      <td>Swiss-Prot</td>\n",
       "      <td>003L_IIV3</td>\n",
       "      <td>Invertebrate iridescent virus 3</td>\n",
       "      <td>4</td>\n",
       "      <td>MYQAINPCPQSWYGSPQLEREIVCKMSGAPHYPNYYPVHPNALGGA...</td>\n",
       "    </tr>\n",
       "    <tr>\n",
       "      <th>Q6GZX2</th>\n",
       "      <td>Swiss-Prot</td>\n",
       "      <td>003R_FRG3G</td>\n",
       "      <td>Frog virus 3 (isolate Goorha)</td>\n",
       "      <td>3</td>\n",
       "      <td>MARPLLGKTSSVRRRLESLSACSIFFFLRKFCQKMASLVFLNSPVY...</td>\n",
       "    </tr>\n",
       "  </tbody>\n",
       "</table>\n",
       "</div>"
      ],
      "text/plain": [
       "           dataset        name                         organism  \\\n",
       "ID                                                                \n",
       "Q6GZX4  Swiss-Prot  001R_FRG3G    Frog virus 3 (isolate Goorha)   \n",
       "Q6GZX3  Swiss-Prot  002L_FRG3G    Frog virus 3 (isolate Goorha)   \n",
       "Q197F8  Swiss-Prot   002R_IIV3  Invertebrate iridescent virus 3   \n",
       "Q197F7  Swiss-Prot   003L_IIV3  Invertebrate iridescent virus 3   \n",
       "Q6GZX2  Swiss-Prot  003R_FRG3G    Frog virus 3 (isolate Goorha)   \n",
       "\n",
       "        proteinexistence                                           sequence  \n",
       "ID                                                                           \n",
       "Q6GZX4                 4  MAFSAEDVLKEYDRRRRMEALLLSLYYPNDRKLLDYKEWSPPRVQV...  \n",
       "Q6GZX3                 4  MSIIGATRLQNDKSDTYSAGPCYAGGCSAFTPRGTCGKDWDLGEQT...  \n",
       "Q197F8                 4  MASNTVSAQGGSNRPVRDFSNIQDVAQFLLFDPIWNEQPGSIVPWK...  \n",
       "Q197F7                 4  MYQAINPCPQSWYGSPQLEREIVCKMSGAPHYPNYYPVHPNALGGA...  \n",
       "Q6GZX2                 3  MARPLLGKTSSVRRRLESLSACSIFFFLRKFCQKMASLVFLNSPVY...  "
      ]
     },
     "execution_count": 3,
     "metadata": {},
     "output_type": "execute_result"
    }
   ],
   "source": [
    "df.head()"
   ]
  },
  {
   "cell_type": "code",
   "execution_count": 4,
   "metadata": {},
   "outputs": [
    {
     "data": {
      "text/plain": [
       "561356"
      ]
     },
     "execution_count": 4,
     "metadata": {},
     "output_type": "execute_result"
    }
   ],
   "source": [
    "len(df)"
   ]
  },
  {
   "cell_type": "code",
   "execution_count": 5,
   "metadata": {},
   "outputs": [
    {
     "data": {
      "text/plain": [
       "554209"
      ]
     },
     "execution_count": 5,
     "metadata": {},
     "output_type": "execute_result"
    }
   ],
   "source": [
    "df2 = uniprot.transform(df, max_seq_len=1400)\n",
    "len(df2)"
   ]
  },
  {
   "cell_type": "code",
   "execution_count": 6,
   "metadata": {},
   "outputs": [
    {
     "name": "stderr",
     "output_type": "stream",
     "text": [
      "554209it [01:26, 6386.16it/s]\n"
     ]
    }
   ],
   "source": [
    "vocab, tok, ids = word2num.transform(df2, lambda seq: [t for t in seq])"
   ]
  },
  {
   "cell_type": "code",
   "execution_count": 7,
   "metadata": {},
   "outputs": [
    {
     "data": {
      "text/plain": [
       "['Q6GZX4',\n",
       " 'Q6GZX3',\n",
       " 'Q197F8',\n",
       " 'Q197F7',\n",
       " 'Q6GZX2',\n",
       " 'Q6GZX1',\n",
       " 'Q197F5',\n",
       " 'Q6GZX0',\n",
       " 'Q91G88',\n",
       " 'Q6GZW9']"
      ]
     },
     "execution_count": 7,
     "metadata": {},
     "output_type": "execute_result"
    }
   ],
   "source": [
    "ids[:10]"
   ]
  },
  {
   "cell_type": "code",
   "execution_count": 8,
   "metadata": {},
   "outputs": [
    {
     "name": "stderr",
     "output_type": "stream",
     "text": [
      "/home/kotliaro/anaconda3/envs/env3.6/lib/python3.6/site-packages/sklearn/model_selection/_split.py:2026: FutureWarning: From version 0.21, test_size will always complement train_size unless both are specified.\n",
      "  FutureWarning)\n"
     ]
    }
   ],
   "source": [
    "index = [x for x in range(len(df2))]\n",
    "ix_train, ix_valid, ix_test = splits.make_train_validation_test(index, train_size=0.8, validation_size=0.1)\n"
   ]
  },
  {
   "cell_type": "code",
   "execution_count": 9,
   "metadata": {},
   "outputs": [
    {
     "name": "stdout",
     "output_type": "stream",
     "text": [
      "train=443367 valid=55421 test=55421\n"
     ]
    }
   ],
   "source": [
    "print(\"train={} valid={} test={}\".format(len(ix_train), len(ix_valid), len(ix_test)))"
   ]
  },
  {
   "cell_type": "code",
   "execution_count": 10,
   "metadata": {},
   "outputs": [],
   "source": [
    "X_train = tok[ix_train]\n",
    "X_valid = tok[ix_valid]"
   ]
  },
  {
   "cell_type": "code",
   "execution_count": 11,
   "metadata": {},
   "outputs": [],
   "source": [
    "import train_lm\n"
   ]
  },
  {
   "cell_type": "code",
   "execution_count": 12,
   "metadata": {},
   "outputs": [],
   "source": [
    "config = {\"embed_size\": 400,\n",
    "         \"hidden_units\": 1400,\n",
    "         \"num_layers\": 3,\n",
    "         \"pad_index\": 0,\n",
    "         \"tie_encoder\": True}\n",
    "train_lm.train_lm(vocab, X_train, X_valid, \"/tmp\", \"AWD_LSTM\", config)"
   ]
  },
  {
   "cell_type": "code",
   "execution_count": null,
   "metadata": {},
   "outputs": [],
   "source": []
  }
 ],
 "metadata": {
  "kernelspec": {
   "display_name": "Python 3",
   "language": "python",
   "name": "python3"
  },
  "language_info": {
   "codemirror_mode": {
    "name": "ipython",
    "version": 3
   },
   "file_extension": ".py",
   "mimetype": "text/x-python",
   "name": "python",
   "nbconvert_exporter": "python",
   "pygments_lexer": "ipython3",
   "version": "3.6.5"
  }
 },
 "nbformat": 4,
 "nbformat_minor": 2
}
